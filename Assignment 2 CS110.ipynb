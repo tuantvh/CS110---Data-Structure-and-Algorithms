{
 "cells": [
  {
   "cell_type": "markdown",
   "metadata": {},
   "source": [
    "# CS110 - Assignment 2"
   ]
  },
  {
   "cell_type": "markdown",
   "metadata": {},
   "source": [
    "# Introduction\n",
    "Bloom filter is a space-efficient data structure that can be used to test whether an element is a member of a set. For example, suppose a website such as Medium wants to identify whether a post has been read by an users so that it can recommend new posts. It can do a binary search for that post among all the posts read by that users, but that would be $O (lg n)$ complexity. On the other hand, given that we use a bloom filter with k hash functions, the complexity for search is only $O (k)$, which is much more efficient. \n",
    "\n",
    "The trade off for the efficiency is that bloom filter is probabilistic in nature, meaning that we can have false positive. In the example above, the algorithm can mistakenly identify a post as already read although the user has not seen it. However, bloom filter never returns a false negative, which is suitable for our problem as we never want to recommend a post that the user has read."
   ]
  },
  {
   "cell_type": "markdown",
   "metadata": {},
   "source": [
    "### Operations\n",
    "#### Insert\n",
    "To insert an element into the Bloom filter, we hash it k times using different hash functions and mark the resulting bits in the Bloom filter array to 1 according to the hash values. The time complexity is $O(k)$ \n",
    "#### Search\n",
    "To search for an element, we hash it k times, at each time we check if the resulting bit is 1 in our array. If all bits return True, we conclude that the element is probably in our set. If any bit is 0, the item is definitely not in our set. The complexity for searching is $O(k)$\n",
    "\n",
    "#### Deletion\n",
    "Bloom filter does not support deletion. This is because more than one element can set a bit value to 1. Deleting an element (set its corresponding bits to 0) can potentially delete other elements as well.\n"
   ]
  },
  {
   "cell_type": "markdown",
   "metadata": {},
   "source": [
    "# Implementation\n",
    "\n",
    "The following implementation is referenced from https://www.geeksforgeeks.org/bloom-filters-introduction-and-python-implementation/ \n",
    "\n",
    "An important aspect of this implentation is that instead of inputing the size of the bit array and the number of hash functions, we input the number of items we expect to store in our filter and the desired false positive probability. The method get_size and get_hash_count will automtically optimize the size and number of hash functions. To calculate the optimal size (m) and number of hash functions (k). We use the folowing formulars \n",
    "\n",
    "$$ m = -\\frac{n\\:ln\\: p}{(ln2)^2}$$\n",
    "$$ k = \\frac{m}{n} ln 2$$ "
   ]
  },
  {
   "cell_type": "code",
   "execution_count": 1,
   "metadata": {
    "collapsed": true
   },
   "outputs": [],
   "source": [
    "import math\n",
    "import mmh3\n",
    "from bitarray import bitarray\n",
    " \n",
    "class BloomFilter(object):\n",
    " \n",
    "    '''\n",
    "    Class for Bloom filter, using murmur3 hash function\n",
    "    '''\n",
    " \n",
    "    def __init__(self, items_count,fp_prob):\n",
    "        '''\n",
    "        items_count : int\n",
    "            Number of items expected to be stored in bloom filter\n",
    "        fp_prob : float\n",
    "            False Positive probability in decimal\n",
    "        '''\n",
    "        # False posible probability in decimal\n",
    "        self.fp_prob = fp_prob\n",
    " \n",
    "        # Size of bit array to use\n",
    "        self.size = self.get_size(items_count,fp_prob)\n",
    " \n",
    "        # number of hash functions to use\n",
    "        self.hash_count = self.get_hash_count(self.size,items_count)\n",
    " \n",
    "        # Bit array of given size\n",
    "        self.bit_array = bitarray(self.size)\n",
    " \n",
    "        # initialize all bits as 0\n",
    "        self.bit_array.setall(0)\n",
    " \n",
    "    def add(self, item):\n",
    "        '''\n",
    "        Add an item in the filter\n",
    "        '''\n",
    "        digests = []\n",
    "        for i in range(self.hash_count):\n",
    "            digest = mmh3.hash(item,i) % self.size\n",
    "            digests.append(digest)\n",
    " \n",
    "            # set the bit True in bit_array\n",
    "            self.bit_array[digest] = True\n",
    " \n",
    "    def check(self, item):\n",
    "        '''\n",
    "        Check for existence of an item in filter\n",
    "        '''\n",
    "        for i in range(self.hash_count):\n",
    "            digest = mmh3.hash(item,i) % self.size\n",
    "            if self.bit_array[digest] == False:\n",
    "                return False\n",
    "        return True\n",
    " \n",
    "    @classmethod\n",
    "    def get_size(self,n,p):\n",
    "        '''\n",
    "        Return the size of bit array(m) to used using\n",
    "        following formula\n",
    "        m = -(n * lg(p)) / (lg(2)^2)\n",
    "        n : int\n",
    "            number of items expected to be stored in filter\n",
    "        p : float\n",
    "            False Positive probability in decimal\n",
    "        '''\n",
    "        m = -(n * math.log(p))/(math.log(2)**2)\n",
    "        return int(m)\n",
    " \n",
    "    @classmethod\n",
    "    def get_hash_count(self, m, n):\n",
    "        '''\n",
    "        Return the hash function(k) to be used using\n",
    "        following formula\n",
    "        k = (m/n) * lg(2)\n",
    " \n",
    "        m : int\n",
    "            size of bit array\n",
    "        n : int\n",
    "            number of items expected to be stored in filter\n",
    "        '''\n",
    "        k = (m/n) * math.log(2)\n",
    "        return int(k)    "
   ]
  },
  {
   "cell_type": "code",
   "execution_count": 2,
   "metadata": {
    "collapsed": true
   },
   "outputs": [],
   "source": [
    "import random, string\n",
    "from random import shuffle"
   ]
  },
  {
   "cell_type": "code",
   "execution_count": 3,
   "metadata": {},
   "outputs": [
    {
     "name": "stdout",
     "output_type": "stream",
     "text": [
      "Size of bit array:124\n",
      "The desired false positive rate:0.05\n",
      "Number of hash functions:4\n",
      "'vWvyr' is definitely not present!\n",
      "'ubt3w' is probably present!\n",
      "'VkIFB' is a false positive!\n",
      "'Gipfl' is probably present!\n",
      "'URANW' is probably present!\n",
      "'F6jHD' is definitely not present!\n",
      "'B9hM0' is definitely not present!\n",
      "'jaes3' is definitely not present!\n",
      "'2L8iC' is definitely not present!\n",
      "'rjVUz' is probably present!\n",
      "'646t0' is definitely not present!\n",
      "'nBuw8' is probably present!\n",
      "'GSuyj' is probably present!\n",
      "'kxBKK' is definitely not present!\n",
      "'TUhA7' is probably present!\n",
      "'trSgf' is definitely not present!\n",
      "'iDgyf' is probably present!\n",
      "'sTqew' is probably present!\n",
      "'kYa7l' is definitely not present!\n",
      "'gQZBt' is probably present!\n",
      "The tested false positive rate is  0.05\n"
     ]
    }
   ],
   "source": [
    "n = 20 #no of items to add\n",
    "p = 0.05 #desired false positive probability\n",
    "count =0\n",
    "\n",
    "bloomf = BloomFilter(n,p)\n",
    "print(\"Size of bit array:{}\".format(bloomf.size))\n",
    "print(\"The desired false positive rate:{}\".format(bloomf.fp_prob))\n",
    "print(\"Number of hash functions:{}\".format(bloomf.hash_count))\n",
    " \n",
    "\n",
    "random_list =[''.join([random.choice(string.ascii_letters + string.digits) for n in range(5)]) for i in range(30)]\n",
    "word_present = random_list[:20]\n",
    "word_absent = random_list[20:]\n",
    " \n",
    "for item in word_present:\n",
    "    bloomf.add(item)\n",
    " \n",
    "shuffle(word_present)\n",
    "shuffle(word_absent)\n",
    " \n",
    "test_words = word_present[:10] + word_absent\n",
    "shuffle(test_words)\n",
    "\n",
    "for word in test_words:\n",
    "    if bloomf.check(word):\n",
    "        if word in word_absent:\n",
    "            print(\"'{}' is a false positive!\".format(word))\n",
    "            count+=1\n",
    "        else:\n",
    "            print(\"'{}' is probably present!\".format(word))\n",
    "    else:\n",
    "        print(\"'{}' is definitely not present!\".format(word))\n",
    "        \n",
    "print(\"The tested false positive rate is \", count/n)"
   ]
  },
  {
   "cell_type": "markdown",
   "metadata": {},
   "source": [
    "# Hash function\n",
    "\n",
    "The hash function used in this implementation is MurmurHash3, a non-cryptographic hash function. This is a suitable hash function for several reasons: 1) the hash value is deterministic 2) The hash funciton produce uniformly distributed hash values, which minimizes collision 3) It is fast, which is important as we scale our number of hash functions. \n",
    "\n",
    "Its detailed implementation can be found at https://en.wikipedia.org/wiki/MurmurHash. It use two operations: multiply (MU) and rotate (R) for each fourByteChunk of the input key. \n",
    "\n",
    "In our implementation we use mmh3.hash(input string, seed). For each seed we get a unique 32 bit hash value, which is then combined with the mod operator (%) to get an index in our array. Multiple seeds can be used when we increase the number of has functions. \n"
   ]
  },
  {
   "cell_type": "markdown",
   "metadata": {},
   "source": [
    "# Scaling\n",
    "### Memory size\n",
    "As the false positive rate or input size increases, memory size also needed to be increased to avoid collision of the elements. Memory size (m) is given as a function of the number of items stored (n) and false positive rate (p) as follow.\n",
    "\n",
    "$$ m = -\\frac{n\\:ln\\: p}{(ln2)^2}$$\n",
    "### Access time \n",
    "As we already see, the access time of an element is O(k) time complexity. Thus, if we keep k fixed, it remains constant as we change the false positive rate or number of items stored. In case we optimize for m and k according to p and n like the implementation above, the access time will vary proportional to k. \n",
    "$$ k = \\frac{m}{n} ln 2$$ \n"
   ]
  },
  {
   "cell_type": "markdown",
   "metadata": {},
   "source": [
    "# False positive rate \n",
    "\n",
    "Theoretically, for a bloom filter of size m, with number of input n and hash function k. The false positive rate is given by\n",
    "\n",
    "$$\\Bigg(1-\\bigg[1-\\frac{1}{m}\\bigg]^{kn}\\Bigg)^k \\approx \\big(1-e^{-kn/m}\\big)^k $$"
   ]
  },
  {
   "cell_type": "markdown",
   "metadata": {},
   "source": [
    "To test how the false positive rate changes as the input size increases, I first initialize a bloom filter of a fixed size. "
   ]
  },
  {
   "cell_type": "code",
   "execution_count": 4,
   "metadata": {},
   "outputs": [
    {
     "name": "stdout",
     "output_type": "stream",
     "text": [
      "Size of bit array:311\n",
      "Number of hash functions:4\n"
     ]
    }
   ],
   "source": [
    "bf = BloomFilter(50,0.05)\n",
    "print(\"Size of bit array:{}\".format(bf.size))\n",
    "print(\"Number of hash functions:{}\".format(bf.hash_count))"
   ]
  },
  {
   "cell_type": "code",
   "execution_count": 5,
   "metadata": {},
   "outputs": [],
   "source": [
    "#creating input and test lists, which consists of random strings\n",
    "random_list =[''.join([random.choice(string.ascii_letters + string.digits) for n in range(32)]) for i in range(2000)]\n",
    "input_list = random_list[:1000]\n",
    "test_list = random_list[1000:]"
   ]
  },
  {
   "cell_type": "code",
   "execution_count": 6,
   "metadata": {},
   "outputs": [
    {
     "data": {
      "image/png": "[encoded data removed]",
      "text/plain": [
       "<matplotlib.figure.Figure at 0x23f8b28f860>"
      ]
     },
     "metadata": {},
     "output_type": "display_data"
    }
   ],
   "source": [
    "import  matplotlib.pyplot as plt\n",
    "false_pos = []\n",
    "theory = []\n",
    "\n",
    "for i in range(1000):\n",
    "    count =0\n",
    "    bf.add(input_list[i])\n",
    "    for test in test_list:\n",
    "        if bf.check(test) == True:\n",
    "            count +=1\n",
    "    false_pos.append(count/1000)\n",
    "    theory.append((1-(1-1/bf.size)**(bf.hash_count*(i+1)))**bf.hash_count)\n",
    "    \n",
    "size = [i for i in range(1000)]\n",
    "    \n",
    "plt.plot(size, false_pos, label = \"Experimental Result\")\n",
    "plt.plot(size, theory, label = \"Theoretical Rate\")\n",
    "\n",
    "plt.xlabel(\"Input Size\")\n",
    "plt.ylabel(\"False Positive Rate\")\n",
    "\n",
    "\n",
    "plt.legend()\n",
    "plt.show()"
   ]
  },
  {
   "cell_type": "markdown",
   "metadata": {},
   "source": [
    "This is the result if we do not optimize for the size of the array and want to keep the memory size small since adding more memory resulting in more cost. As input size gets bigger, the number of collisions increases, resulting in higher False Positive Rate. "
   ]
  },
  {
   "cell_type": "markdown",
   "metadata": {},
   "source": [
    "If, in an ideal world where we don't have to worry about the cost of extra memory, we optimize the array size according to the input size. The false positive rate would be very low as we expect fewer collisions of the elements. "
   ]
  },
  {
   "cell_type": "code",
   "execution_count": 7,
   "metadata": {},
   "outputs": [
    {
     "name": "stdout",
     "output_type": "stream",
     "text": [
      "Size of bit array:6235\n",
      "Number of hash functions:4\n"
     ]
    }
   ],
   "source": [
    "bf_optimized = BloomFilter(1000,0.05) #array size optimized according to input size\n",
    "print(\"Size of bit array:{}\".format(bf_optimized.size))\n",
    "print(\"Number of hash functions:{}\".format(bf_optimized.hash_count))"
   ]
  },
  {
   "cell_type": "code",
   "execution_count": 8,
   "metadata": {},
   "outputs": [
    {
     "data": {
      "image/png": "[encoded data removed]",
      "text/plain": [
       "<matplotlib.figure.Figure at 0x23f8acc4f98>"
      ]
     },
     "metadata": {},
     "output_type": "display_data"
    }
   ],
   "source": [
    "false_pos = []\n",
    "theory = []\n",
    "\n",
    "for i in range(1000):\n",
    "    count =0\n",
    "    bf_optimized.add(input_list[i])\n",
    "    for test in test_list:\n",
    "        if bf_optimized.check(test) == True:\n",
    "            count +=1\n",
    "    false_pos.append(count/1000)\n",
    "    theory.append((1-(1-1/bf_optimized.size)**(bf_optimized.hash_count*(i+1)))**bf_optimized.hash_count)\n",
    "    \n",
    "size = [i for i in range(1000)]\n",
    "    \n",
    "plt.plot(size, false_pos, label = \"Experimental Result\")\n",
    "plt.plot(size, theory, label = \"Theoretical Rate\")\n",
    "\n",
    "plt.xlabel(\"Input Size\")\n",
    "plt.ylabel(\"False Positive Rate\")\n",
    "\n",
    "\n",
    "plt.legend()\n",
    "plt.show()"
   ]
  }
 ],
 "metadata": {
  "kernelspec": {
   "display_name": "Python 3",
   "language": "python",
   "name": "python3"
  },
  "language_info": {
   "codemirror_mode": {
    "name": "ipython",
    "version": 3
   },
   "file_extension": ".py",
   "mimetype": "text/x-python",
   "name": "python",
   "nbconvert_exporter": "python",
   "pygments_lexer": "ipython3",
   "version": "3.6.3"
  }
 },
 "nbformat": 4,
 "nbformat_minor": 2
}
