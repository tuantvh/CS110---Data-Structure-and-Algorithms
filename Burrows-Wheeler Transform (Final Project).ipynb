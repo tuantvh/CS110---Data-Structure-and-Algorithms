{
 "cells": [
  {
   "cell_type": "markdown",
   "metadata": {},
   "source": [
    "# CS110 - Final Project Implementation\n",
    "## Burrows-Wheeler Transform "
   ]
  },
  {
   "cell_type": "code",
   "execution_count": 1,
   "metadata": {},
   "outputs": [],
   "source": [
    "import heapq\n",
    "from collections import defaultdict\n",
    "from bitarray import bitarray\n",
    "import pickle\n",
    "import time\n",
    "import random, string"
   ]
  },
  {
   "cell_type": "markdown",
   "metadata": {},
   "source": [
    "## BWT Transform Class"
   ]
  },
  {
   "cell_type": "code",
   "execution_count": 2,
   "metadata": {},
   "outputs": [],
   "source": [
    "class BWT:\n",
    "    def __init__(self, file):\n",
    "        self.file = file\n",
    "            \n",
    "    def encode(self):\n",
    "        \"\"\"\n",
    "        This function applies BWT on the string. Input a string and output \n",
    "        the transformed string together with the index of the original string.\n",
    "        \"\"\"\n",
    "        rotations = BWT.create_rotations(list(self.file))\n",
    "        sorted_rotations = sorted(rotations)\n",
    "        encoded_string = []\n",
    "        for i in sorted_rotations:\n",
    "            encoded_string.append(i[-1]) #append the last character\n",
    "        return (''.join(encoded_string), sorted_rotations.index(list(self.file)))\n",
    "\n",
    "    def create_rotations(strlist):\n",
    "        \"\"\"\n",
    "        This function create rotations of string S. Input a list of string and\n",
    "        output a array contain rotations of that string. \n",
    "        \"\"\"\n",
    "        rotations_array = []\n",
    "        str_len = len(strlist)\n",
    "        for i in range(str_len):\n",
    "            rotations_array.append(strlist[(str_len-i):]+strlist[:(str_len-i)])\n",
    "        return rotations_array\n",
    "\n",
    "    def decode(self):\n",
    "        \"\"\"\n",
    "        Reverse_transformed BWT output into the original string.\n",
    "        \"\"\"\n",
    "        L = self.file[0] #the transformed string \n",
    "        I = self.file[1] #index of the original string\n",
    "        n = len(L)\n",
    "        table = [[]]*n #create empty table\n",
    "        for x in range(n):\n",
    "            for y in range(n):\n",
    "                table[y] = list(L[y]) + table[y]\n",
    "            table = sorted(table)\n",
    "        return ''.join(table[self.file[1]])"
   ]
  },
  {
   "cell_type": "code",
   "execution_count": 3,
   "metadata": {},
   "outputs": [
    {
     "data": {
      "text/plain": [
       "'this is a great class.'"
      ]
     },
     "execution_count": 3,
     "metadata": {},
     "output_type": "execute_result"
    }
   ],
   "source": [
    "BWT(\"this is a great class.\").encode()\n",
    "BWT(('stass le r t hcgiisaa.', 21)).decode()"
   ]
  },
  {
   "cell_type": "code",
   "execution_count": 4,
   "metadata": {
    "collapsed": true
   },
   "outputs": [],
   "source": [
    "def MTF(string):\n",
    "    \"\"\"\n",
    "    Move-to-front encoding, input a text and return the encoded \n",
    "    text and the dictionary.     \n",
    "    The implementation is referenced from: https://en.wikipedia.org/wiki/Move-to-front_transform\n",
    "    \"\"\"\n",
    "    # Initialise the list of characters (i.e. the dictionary)\n",
    "    dictionary = sorted(list(set(string)))\n",
    "    # Transformation\n",
    "    compressedtext = list()\n",
    "    rank = 0\n",
    "    # read in each character\n",
    "    for c in string:\n",
    "            rank = dictionary.index(str(c)) # find the rank of the character in the dictionary\n",
    "            compressedtext += [str(rank)] # update the encoded text\n",
    "            # update the dictionary\n",
    "            dictionary.pop(rank)\n",
    "            dictionary.insert(0, c)\n",
    "\n",
    "    dictionary.sort() # sort dictionary\n",
    "    return [compressedtext,dictionary]\n"
   ]
  },
  {
   "cell_type": "code",
   "execution_count": 46,
   "metadata": {},
   "outputs": [
    {
     "data": {
      "text/plain": [
       "[['10',\n",
       "  '11',\n",
       "  '4',\n",
       "  '2',\n",
       "  '0',\n",
       "  '3',\n",
       "  '10',\n",
       "  '7',\n",
       "  '2',\n",
       "  '11',\n",
       "  '1',\n",
       "  '6',\n",
       "  '1',\n",
       "  '10',\n",
       "  '9',\n",
       "  '10',\n",
       "  '11',\n",
       "  '0',\n",
       "  '9',\n",
       "  '10',\n",
       "  '0',\n",
       "  '11'],\n",
       " [' ', '.', 'a', 'c', 'e', 'g', 'h', 'i', 'l', 'r', 's', 't']]"
      ]
     },
     "execution_count": 46,
     "metadata": {},
     "output_type": "execute_result"
    }
   ],
   "source": [
    "MTF('stass le r t hcgiisaa.')"
   ]
  },
  {
   "cell_type": "markdown",
   "metadata": {},
   "source": [
    "## Huffman Compression"
   ]
  },
  {
   "cell_type": "code",
   "execution_count": 5,
   "metadata": {},
   "outputs": [],
   "source": [
    "def build_freq(file):\n",
    "    \"\"\"\n",
    "    Build the dictionary of frequency used for huffman encoding\n",
    "    \"\"\"\n",
    "    freq = defaultdict(int)\n",
    "    for char in file:\n",
    "        freq[char] += 1\n",
    "    total = float(sum(freq.values()))\n",
    "    return {char: count / total for (char, count) in freq.items()}\n",
    "\n",
    "# Now build the Huffman encoding:\n",
    "def huffman_encode(frequency):\n",
    "    \"\"\"\n",
    "    Huffman encodes the given dict mapping symbols to weights.\n",
    "    Accept a dictionary which maps a symbol to a probability.\n",
    "    Return a new dictionary which maps a symbol to a bitarray.    \n",
    "    \"\"\"\n",
    "    heap = [[weight, [symbol, '']] for symbol, weight in list(frequency.items())]\n",
    "    heapq.heapify(heap)\n",
    "    while len(heap) > 1:\n",
    "        low = heapq.heappop(heap)\n",
    "        high = heapq.heappop(heap)\n",
    "        for pair in low[1:]:\n",
    "            pair[1] = '0' + pair[1]\n",
    "        for pair in high[1:]:\n",
    "            pair[1] = '1' + pair[1]\n",
    "        heapq.heappush(heap, [low[0] + high[0]] + low[1:] + high[1:])\n",
    "    return dict(sorted(heapq.heappop(heap)[1:], key=lambda p: (len(p[-1]), p)))\n",
    "    \n",
    "def huffman_compress(filename, encoding, compressed_name=None):\n",
    "    \"\"\"\n",
    "    Compress the file using Huffman codes. Input filename and huffman codes \n",
    "    of the file, output file.huff.\n",
    "    \"\"\"\n",
    "    if compressed_name is None:\n",
    "        compressed_name = filename.rstrip('.txt') + \".huff\"\n",
    "    output = bitarray()\n",
    "    with open(filename, 'r') as f:\n",
    "        for line in f:\n",
    "            for char in line:\n",
    "                output.extend(encoding[char])\n",
    "    N = len(output)\n",
    "    with open(compressed_name, 'wb') as f:\n",
    "        pickle.dump(N, f)\n",
    "        pickle.dump(encoding, f)\n",
    "        output.tofile(f)\n",
    "        \n",
    "def huffman_decompress(filename, decompressed_name=None):\n",
    "    \"\"\"\n",
    "    Decompress .huff file.\n",
    "    \"\"\"\n",
    "    if decompressed_name is None:\n",
    "        decompressed_name = filename + \".dehuff\"\n",
    "    with open(filename, 'rb') as f:\n",
    "        N = pickle.load(f)\n",
    "        encoding = pickle.load(f)\n",
    "        bits = bitarray()\n",
    "        bits.fromfile(f)\n",
    "        bits = bits[:N]\n",
    "\n",
    "    # Totally cheating here and using a builtin method:\n",
    "    output = bits.decode(encoding)\n",
    "\n",
    "    output = \"\".join(output).encode('utf-8-sig')\n",
    "    with open(decompressed_name, 'wb') as f:\n",
    "        f.write(output)\n",
    "\n",
    "def direct_huffman_compress(filename):\n",
    "    \"\"\"\n",
    "    Directly compress the file using huffman code. The function builds the Huffman codes \n",
    "    from the file and encodes it. \n",
    "    \"\"\"\n",
    "    with open(filename, \"r\") as my_file:\n",
    "        file = my_file.read()\n",
    "\n",
    "    freq = build_freq(file)\n",
    "    encoding = huffman_encode(freq)\n",
    "    huffman_compress(filename, encoding)\n",
    "\n",
    "direct_huffman_compress(\"Shakespeare.txt\")"
   ]
  },
  {
   "cell_type": "markdown",
   "metadata": {},
   "source": [
    "## Compressing with BWT"
   ]
  },
  {
   "cell_type": "code",
   "execution_count": 6,
   "metadata": {},
   "outputs": [],
   "source": [
    "def compress(filename, string, huff_codes, char_set, ind):\n",
    "    \"\"\"\n",
    "    Compress the MTF encoded file. \n",
    "    \n",
    "    Input:\n",
    "    filename (str): name of the file.\n",
    "    string (str): MTF-encoded version of the file. \n",
    "    huff_codes (dict): Huffman codes built from the file. \n",
    "    char_set (list): list containing unique characters from the file. \n",
    "    ind (int): index of the original string from BWT     \n",
    "    \"\"\"\n",
    "    \n",
    "    fname = filename.rstrip('.txt') + '_BWT.huff'\n",
    "    output = bitarray()\n",
    "    for char in string:\n",
    "        output.extend(huff_codes[char])\n",
    "    N = len(output)\n",
    "    with open(fname, 'wb') as f:\n",
    "        pickle.dump(N, f)\n",
    "        pickle.dump(huff_codes, f)\n",
    "        pickle.dump(char_set, f)\n",
    "        pickle.dump(ind, f)\n",
    "        output.tofile(f)\n",
    "        \n",
    "def BWT_compress(filename):\n",
    "    \"\"\"\n",
    "    Compress file using BWT transformed and MTF encoding before Huffman compress. \n",
    "    \"\"\"\n",
    "    with open(filename, \"r\") as my_file:\n",
    "        file = my_file.read()\n",
    "    BWT_transformed = BWT(file).encode()\n",
    "    MTF_encoded = MTF(BWT_transformed[0])\n",
    "    \n",
    "    frequency = build_freq(MTF_encoded[0])\n",
    "    huff_codes = huffman_encode(frequency)\n",
    "    for key, value in huff_codes.items():\n",
    "        huff_codes[key] = bitarray(value)\n",
    "        \n",
    "    compress(filename, MTF_encoded[0], huff_codes, MTF_encoded[1], BWT_transformed[1])"
   ]
  },
  {
   "cell_type": "markdown",
   "metadata": {},
   "source": [
    "## Compare compression methods"
   ]
  },
  {
   "cell_type": "code",
   "execution_count": 7,
   "metadata": {
    "collapsed": true
   },
   "outputs": [],
   "source": [
    "def compare_compression(filename):\n",
    "    print(\"Compressing\", filename)\n",
    "    start_time = time.time()\n",
    "    direct_huffman_compress(filename)\n",
    "    print(\"Compressing with normal Huffman takes {} seconds\".format(time.time()-start_time))\n",
    "\n",
    "    start_time = time.time()\n",
    "    BWT_compress(filename)   \n",
    "    print(\"Compressing with BWT takes {} seconds\".format(time.time()-start_time))\n",
    "    print(\"====================================================================\")"
   ]
  },
  {
   "cell_type": "markdown",
   "metadata": {},
   "source": [
    "## Create random test strings"
   ]
  },
  {
   "cell_type": "code",
   "execution_count": null,
   "metadata": {
    "collapsed": true
   },
   "outputs": [],
   "source": [
    "random_string = ''.join(random.choice(string.ascii_lowercase) for _ in range(50000))\n",
    "textfile = open('random_string_test.txt', 'w')\n",
    "textfile.write(random_string)\n",
    "textfile.close()"
   ]
  },
  {
   "cell_type": "code",
   "execution_count": 12,
   "metadata": {
    "collapsed": true
   },
   "outputs": [],
   "source": [
    "int_sequence = ''.join(random.choice([str(0),str(1),str(2),str(3),str(4),str(5),str(6),str(7),\\\n",
    "                    str(8),str(9),str(10)]) for _ in range(10000))\n",
    "\n",
    "textfile = open('Integers.txt', 'w')\n",
    "textfile.write(int_sequence)\n",
    "textfile.close()"
   ]
  },
  {
   "cell_type": "code",
   "execution_count": null,
   "metadata": {
    "collapsed": true
   },
   "outputs": [],
   "source": [
    "compare_compression(\"Shakespeare.txt\")\n",
    "compare_compression(\"Shakespeare_small.txt\")\n",
    "compare_compression(\"random_string_test.txt\")\n",
    "compare_compression(\"Harry_potter.txt\")\n",
    "compare_compression(\"Integers.txt\")"
   ]
  }
 ],
 "metadata": {
  "kernelspec": {
   "display_name": "Python 3",
   "language": "python",
   "name": "python3"
  },
  "language_info": {
   "codemirror_mode": {
    "name": "ipython",
    "version": 3
   },
   "file_extension": ".py",
   "mimetype": "text/x-python",
   "name": "python",
   "nbconvert_exporter": "python",
   "pygments_lexer": "ipython3",
   "version": "3.6.3"
  }
 },
 "nbformat": 4,
 "nbformat_minor": 2
}
